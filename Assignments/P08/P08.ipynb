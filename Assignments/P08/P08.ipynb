{
 "cells": [
  {
   "cell_type": "code",
   "execution_count": 11,
   "metadata": {},
   "outputs": [],
   "source": [
    "import numpy as np\n",
    "import geopandas as gpd\n",
    "import contextily as ctx\n",
    "import json\n",
    "from geopandas.tools import sjoin\n",
    "import plotly.express as px\n",
    "import matplotlib.pyplot as plt\n",
    "from shapely.ops import cascaded_union\n",
    "from shapely.ops import unary_union\n",
    "import shapely.speedups\n",
    "from shapely.geometry import Point, Polygon\n",
    "from geovoronoi.plotting import subplot_for_map, plot_voronoi_polys_with_points_in_area\n",
    "from geovoronoi import voronoi_regions_from_coords, points_to_coords\n",
    "shapely.speedups.enable()\n"
   ]
  },
  {
   "cell_type": "code",
   "execution_count": 12,
   "metadata": {},
   "outputs": [],
   "source": [
    "def load_points():\n",
    "    f = open('cities.json')\n",
    "    cities_points = json.load(f)\n",
    "    \n",
    "   # get the lat and longs of cities\n",
    "   # append them in their own list\n",
    "    x = []\n",
    "    y = []\n",
    "    for r in cities_points:\n",
    "        x.append(r['latitude'])\n",
    "        y.append(r['longitude'])\n",
    "\n",
    "    # use the list to be placed into geopandas to get points \n",
    "    s = gpd.GeoSeries(gpd.points_from_xy(y, x))\n",
    "    return s"
   ]
  },
  {
   "cell_type": "code",
   "execution_count": 13,
   "metadata": {},
   "outputs": [],
   "source": [
    "def load_polygons():\n",
    "    boundary  = gpd.read_file(\"states.geojson\")\n",
    "    "
   ]
  },
  {
   "cell_type": "code",
   "execution_count": 14,
   "metadata": {},
   "outputs": [],
   "source": [
    "def find_points(cities_points,espg=None):\n",
    "\n",
    "\n",
    "    pass"
   ]
  },
  {
   "cell_type": "code",
   "execution_count": 15,
   "metadata": {},
   "outputs": [],
   "source": [
    "if __name__ == \"__main__\":\n",
    "  \n",
    "  cities_points =  load_points()\n",
    "  \n",
    "  poly_gons = load_polygons()\n",
    "  find_points(cities_points, espg=None)\n",
    "\n",
    "  \n",
    "  "
   ]
  }
 ],
 "metadata": {
  "kernelspec": {
   "display_name": "P03venvkernal",
   "language": "python",
   "name": "p03venvkernal"
  },
  "language_info": {
   "codemirror_mode": {
    "name": "ipython",
    "version": 3
   },
   "file_extension": ".py",
   "mimetype": "text/x-python",
   "name": "python",
   "nbconvert_exporter": "python",
   "pygments_lexer": "ipython3",
   "version": "3.8.10"
  },
  "orig_nbformat": 4
 },
 "nbformat": 4,
 "nbformat_minor": 2
}
